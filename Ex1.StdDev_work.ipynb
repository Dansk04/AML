{
  "cells": [
    {
      "cell_type": "markdown",
      "id": "42142d60",
      "metadata": {
        "id": "42142d60"
      },
      "source": [
        "<img src=\"https://www.th-koeln.de/img/logo.svg\" style=\"float:right;\" width=\"200\">"
      ]
    },
    {
      "cell_type": "markdown",
      "id": "756ba942",
      "metadata": {
        "id": "756ba942"
      },
      "source": [
        "# 1st exercise: <font color=\"#C70039\">Work with standard deviations for anomaly detection</font>\n",
        "* Course: AML\n",
        "* Lecturer: <a href=\"https://www.gernotheisenberg.de/\">Gernot Heisenberg</a>\n",
        "* Author of notebook: <a href=\"https://www.gernotheisenberg.de/\">Gernot Heisenberg</a>\n",
        "* Date:   08.08.2023\n",
        "* Daniel Spiller\n",
        "* Matrikelnummer: ********\n",
        "\n",
        "<img src=\"https://upload.wikimedia.org/wikipedia/commons/thumb/8/8c/Standard_deviation_diagram.svg/1200px-Standard_deviation_diagram.svg.png\" style=\"float: center;\" width=\"450\">\n",
        "\n",
        "---------------------------------\n",
        "**GENERAL NOTE 1**:\n",
        "Please make sure you are reading the entire notebook, since it contains a lot of information on your tasks (e.g. regarding the set of certain paramaters or a specific computational trick), and the written mark downs as well as comments contain a lot of information on how things work together as a whole.\n",
        "\n",
        "**GENERAL NOTE 2**:\n",
        "* Please, when commenting source code, just use English language only.\n",
        "* When describing an observation please use English language, too\n",
        "* This applies to all exercises throughout this course.  \n",
        "\n",
        "---------------------\n",
        "\n",
        "### <font color=\"ce33ff\">DESCRIPTION</font>:\n",
        "This notebook allows you for getting into standard deviations as a common technique to detect anomalies when the data is normally distributed.\n",
        "\n",
        "-------------------------------------------------------------------------------------------------------------\n",
        "\n",
        "### <font color=\"FFC300\">TASKS</font>:\n",
        "The tasks that you need to work on within this notebook are always indicated below as bullet points.\n",
        "If a task is more challenging and consists of several steps, this is indicated as well.\n",
        "Make sure you have worked down the task list and commented your doings.\n",
        "This should be done by using markdown.<br>\n",
        "<font color=red>Make sure you don't forget to specify your name and your matriculation number in the notebook.</font>\n",
        "\n",
        "**YOUR TASKS in this exercise are as follows**:\n",
        "1. import the notebook to Google Colab or use your local machine.\n",
        "2. make sure you specified you name and your matriculation number in the header below my name and date.\n",
        "    * set the date too and remove mine.\n",
        "3. read the entire notebook carefully\n",
        "    * add comments whereever you feel it necessary for better understanding\n",
        "    * run the notebook for the first time.\n",
        "    * understand the output\n",
        "4. go and find three different data sets on the web\n",
        "    * kaggle.com might be a good source (they also offer an API for data download)\n",
        "    * make sure two of the three data sets are normally distributed\n",
        "    * download one data set that is not normally distributed\n",
        "5. visualize the data\n",
        "6. compute the anomalies\n",
        "7. visualize the anomalies\n",
        "8. does the 0,3% rule apply?\n",
        "9. what are differences between the normally distributed and the non-normally distributed data sets with respect to the outlier detection?\n",
        "10. which statement can be made and which cannot?\n",
        "-----------------------------------------------------------------------------------"
      ]
    },
    {
      "cell_type": "code",
      "execution_count": 9,
      "id": "3c30b564",
      "metadata": {
        "tags": [],
        "id": "3c30b564"
      },
      "outputs": [],
      "source": [
        "import pandas as pd\n",
        "import numpy as np\n",
        "import matplotlib.pyplot as plt\n",
        "from numpy.random import randn\n",
        "np.random.seed(1)"
      ]
    },
    {
      "cell_type": "code",
      "source": [
        "from google.colab import drive\n",
        "drive.mount('/content/drive')"
      ],
      "metadata": {
        "colab": {
          "base_uri": "https://localhost:8080/"
        },
        "id": "_qCE5Il07il8",
        "outputId": "4345d3dd-9492-4bf2-dc81-bf96af5ea1a7"
      },
      "id": "_qCE5Il07il8",
      "execution_count": 10,
      "outputs": [
        {
          "output_type": "stream",
          "name": "stdout",
          "text": [
            "Drive already mounted at /content/drive; to attempt to forcibly remount, call drive.mount(\"/content/drive\", force_remount=True).\n"
          ]
        }
      ]
    },
    {
      "cell_type": "code",
      "source": [
        "# read Pearth weather data\n",
        "perth_weather = pd.read_csv('./drive/MyDrive/Colab Notebooks/data/PerthTemperatures.csv')\n",
        "data = perth_weather['Maximum temperature (Degree C)']\n",
        "\n",
        "#fig, ax = plt.subplot()\n",
        "ax = plt.hist(data)\n",
        "plt.show()"
      ],
      "metadata": {
        "colab": {
          "base_uri": "https://localhost:8080/",
          "height": 430
        },
        "id": "X33ktXm-qwDH",
        "outputId": "340f89c7-74d5-49b5-dce2-f1827b698cd5"
      },
      "id": "X33ktXm-qwDH",
      "execution_count": null,
      "outputs": [
        {
          "output_type": "display_data",
          "data": {
            "text/plain": [
              "<Figure size 640x480 with 1 Axes>"
            ],
            "image/png": "[encoded data removed]"
          },
          "metadata": {}
        }
      ]
    },
    {
      "cell_type": "code",
      "source": [
        "# read winequality red\n",
        "wine_red = pd.read_csv('./drive/MyDrive/Colab Notebooks/data/winequality-red.csv')\n",
        "data = wine_red['pH']\n",
        "\n",
        "ax = plt.hist(data)\n",
        "plt.show()"
      ],
      "metadata": {
        "id": "LgVbezebvH70",
        "outputId": "5685d474-1303-4804-c5b8-1385ce6391de",
        "colab": {
          "base_uri": "https://localhost:8080/",
          "height": 430
        }
      },
      "id": "LgVbezebvH70",
      "execution_count": null,
      "outputs": [
        {
          "output_type": "display_data",
          "data": {
            "text/plain": [
              "<Figure size 640x480 with 1 Axes>"
            ],
            "image/png": "[encoded data removed]"
          },
          "metadata": {}
        }
      ]
    },
    {
      "cell_type": "code",
      "source": [
        "# calories dataset\n",
        "calories = pd.read_csv('./drive/MyDrive/Colab Notebooks/data/calories.csv')\n",
        "data = calories['KJ_per100grams']\n",
        "# Extracting the numerical values and converting them to integers\n",
        "data = [int(value.split()[0]) for value in data]\n",
        "\n",
        "ax = plt.hist(data)\n",
        "plt.show()"
      ],
      "metadata": {
        "id": "SEK_p9D8wpM2",
        "outputId": "e1e9939d-1dfe-413e-9ec7-6dbc3afc0519",
        "colab": {
          "base_uri": "https://localhost:8080/",
          "height": 430
        }
      },
      "id": "SEK_p9D8wpM2",
      "execution_count": 22,
      "outputs": [
        {
          "output_type": "display_data",
          "data": {
            "text/plain": [
              "<Figure size 640x480 with 1 Axes>"
            ],
            "image/png": "[encoded data removed]"
          },
          "metadata": {}
        }
      ]
    },
    {
      "cell_type": "code",
      "execution_count": null,
      "id": "0ea28b74",
      "metadata": {
        "tags": [],
        "colab": {
          "base_uri": "https://localhost:8080/"
        },
        "id": "0ea28b74",
        "outputId": "63bd0298-76f7-44de-d334-3049753ac5ae"
      },
      "outputs": [
        {
          "output_type": "stream",
          "name": "stdout",
          "text": [
            "[ 2.12230337 12.56220377 23.90659901 ... 21.62450623 26.88092355\n",
            "  5.04887507]\n"
          ]
        }
      ],
      "source": [
        "# multiply and add by random numbers to get some real values\n",
        "# randn generates samples from the normal distribution (important - see below)\n",
        "data = np.random.randn(50000)  * 20 + 20\n",
        "\n",
        "print(data)"
      ]
    },
    {
      "cell_type": "code",
      "execution_count": 17,
      "id": "84567403",
      "metadata": {
        "tags": [],
        "id": "84567403"
      },
      "outputs": [],
      "source": [
        "# Function to Detection Outlier on one-dimentional datasets.\n",
        "def find_anomalies(random_data):\n",
        "    #define a list to accumlate anomalies\n",
        "    anomalies = []\n",
        "\n",
        "    # Set upper and lower limit to 3 standard deviation\n",
        "    random_data_std = np.std(random_data)\n",
        "    random_data_mean = np.mean(random_data)\n",
        "    anomaly_cut_off = random_data_std * 3\n",
        "\n",
        "    lower_limit  = random_data_mean - anomaly_cut_off\n",
        "    upper_limit = random_data_mean + anomaly_cut_off\n",
        "\n",
        "    print(\"lower limit=\", round(lower_limit,8))\n",
        "    print(\"upper limit=\", round(upper_limit,8))\n",
        "\n",
        "    # Generate outliers list\n",
        "    for outlier in random_data:\n",
        "        if outlier > upper_limit or outlier < lower_limit:\n",
        "            anomalies.append(outlier)\n",
        "\n",
        "    return anomalies"
      ]
    },
    {
      "cell_type": "code",
      "execution_count": 23,
      "id": "d5cbe6cc",
      "metadata": {
        "tags": [],
        "colab": {
          "base_uri": "https://localhost:8080/",
          "height": 465
        },
        "id": "d5cbe6cc",
        "outputId": "7c51aae3-a427-40cb-e5b9-a50dd1a70a2f"
      },
      "outputs": [
        {
          "output_type": "stream",
          "name": "stdout",
          "text": [
            "lower limit= -1362.01942767\n",
            "upper limit= 3349.83336026\n"
          ]
        },
        {
          "output_type": "display_data",
          "data": {
            "text/plain": [
              "<Figure size 640x480 with 1 Axes>"
            ],
            "image/png": "[encoded data removed]"
          },
          "metadata": {}
        }
      ],
      "source": [
        "anomalies = find_anomalies(data)\n",
        "ax = plt.hist(anomalies)\n",
        "plt.show()"
      ]
    },
    {
      "cell_type": "markdown",
      "id": "f84c895a",
      "metadata": {
        "id": "f84c895a"
      },
      "source": [
        "## Result\n",
        "These anomalies are exceeding the lower and upper 3rd scatter range.\n",
        "Thus, statistically spoken, they do belong to a population size of less than 0,3% of the entire data set!\n",
        "For sure, the above conclusion is true if and only if the data is normally distributed!\n"
      ]
    },
    {
      "cell_type": "code",
      "execution_count": null,
      "id": "17cf3b07",
      "metadata": {
        "colab": {
          "base_uri": "https://localhost:8080/"
        },
        "id": "17cf3b07",
        "outputId": "08325dd1-69ca-4ec2-f3c7-792184c071ec"
      },
      "outputs": [
        {
          "output_type": "stream",
          "name": "stdout",
          "text": [
            "[]\n"
          ]
        }
      ],
      "source": [
        "print(anomalies)"
      ]
    }
  ],
  "metadata": {
    "kernelspec": {
      "display_name": "Python 3 (ipykernel)",
      "language": "python",
      "name": "python3"
    },
    "language_info": {
      "codemirror_mode": {
        "name": "ipython",
        "version": 3
      },
      "file_extension": ".py",
      "mimetype": "text/x-python",
      "name": "python",
      "nbconvert_exporter": "python",
      "pygments_lexer": "ipython3",
      "version": "3.9.17"
    },
    "colab": {
      "provenance": []
    }
  },
  "nbformat": 4,
  "nbformat_minor": 5
}